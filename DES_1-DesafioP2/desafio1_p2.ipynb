{
 "cells": [
  {
   "cell_type": "markdown",
   "metadata": {},
   "source": [
    "Alunos: Anderson e Mariana, R.A: 2150875, 2151014"
   ]
  },
  {
   "cell_type": "markdown",
   "metadata": {},
   "source": [
    "Imports"
   ]
  },
  {
   "cell_type": "code",
   "execution_count": 1,
   "metadata": {},
   "outputs": [],
   "source": [
    "import numpy as np \n",
    "import pandas as pd\n",
    "import networkx as nx"
   ]
  },
  {
   "cell_type": "markdown",
   "metadata": {},
   "source": [
    "Vizinhos comuns - Score no Kaggle = 0.761"
   ]
  },
  {
   "cell_type": "code",
   "execution_count": 2,
   "metadata": {},
   "outputs": [],
   "source": [
    "dfEdgesToEvaluete = pd.read_csv(\"edgesToEvaluate.csv\")\n",
    "G = nx.read_gml(\"GraphMissingEdges.gml\")\n",
    "\n",
    "predictions = []\n",
    "\n",
    "for index, row in dfEdgesToEvaluete.iterrows():\n",
    "    common_neighbor = nx.common_neighbors(G, row['venue1'], row['venue2'])\n",
    "    if len(sorted(common_neighbor)) > 0:\n",
    "        predictions.append(1)\n",
    "    else:\n",
    "        predictions.append(0)\n",
    "\n",
    "dfEdgesToEvaluete['link'] = predictions\n",
    "\n",
    "dfEdgesToEvaluete.to_csv(\"commonNeigh.csv\", columns=['linkID', 'link'], index=False)"
   ]
  },
  {
   "cell_type": "markdown",
   "metadata": {},
   "source": [
    "jaccard - Score no Kaggle = 0.52086\n"
   ]
  },
  {
   "cell_type": "code",
   "execution_count": 3,
   "metadata": {},
   "outputs": [],
   "source": [
    "predictions = []\n",
    "\n",
    "for index, row in dfEdgesToEvaluete.iterrows():\n",
    "    preds = nx.jaccard_coefficient(G, [(row['venue1'], row['venue2'])])\n",
    "    for u,v,p in preds:\n",
    "        if p > 0.05:\n",
    "            predictions.append(1) \n",
    "        else:\n",
    "            predictions.append(0)\n",
    "\n",
    "dfEdgesToEvaluete['link'] = predictions\n",
    "\n",
    "dfEdgesToEvaluete.to_csv(\"jaccardPrediction.csv\", columns=['linkID','link'],index=False)  \n",
    "\n"
   ]
  }
 ],
 "metadata": {
  "kernelspec": {
   "display_name": "Python 3.11.2 64-bit",
   "language": "python",
   "name": "python3"
  },
  "language_info": {
   "codemirror_mode": {
    "name": "ipython",
    "version": 3
   },
   "file_extension": ".py",
   "mimetype": "text/x-python",
   "name": "python",
   "nbconvert_exporter": "python",
   "pygments_lexer": "ipython3",
   "version": "3.11.2"
  },
  "vscode": {
   "interpreter": {
    "hash": "abe94414fffa02d0c9e4f95ff8caa33a2087dc27bdd20160086804588ff45896"
   }
  }
 },
 "nbformat": 4,
 "nbformat_minor": 2
}
