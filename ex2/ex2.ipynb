# Número de nós nas redes
N = 3000

# Probabilidades de conexão
p1 = 0.001
p2 = 0.01

# Criação das redes aleatórias Erdos-Renyi com diferentes probabilidades
graph1 = nx.erdos_renyi_graph(N, p1)
graph2 = nx.erdos_renyi_graph(N, p2)

# Cálculo das distribuições de graus para cada rede
degree_sequence1 = [d for n, d in graph1.degree()]
degree_sequence2 = [d for n, d in graph2.degree()]

# Cálculo dos histogramas das distribuições de graus
degree_counts1 = nx.degree_histogram(graph1)
degree_counts2 = nx.degree_histogram(graph2)

# Plotagem das distribuições de graus
plt.figure(figsize=(12, 6))

plt.subplot(121)
plt.bar(range(len(degree_counts1)), degree_counts1, tick_label=range(len(degree_counts1)))
plt.xlabel("Grau")
plt.ylabel("Número de Nós")
plt.title(f"Distribuição de Graus (p = {p1})")

plt.subplot(122)
plt.bar(range(len(degree_counts2)), degree_counts2, tick_label=range(len(degree_counts2)))
plt.xlabel("Grau")
plt.ylabel("Número de Nós")
plt.title(f"Distribuição de Graus (p = {p2})")

plt.tight_layout()
plt.show()
