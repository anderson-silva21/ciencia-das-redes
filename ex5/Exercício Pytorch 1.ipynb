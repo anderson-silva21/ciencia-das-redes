{
 "cells": [
  {
   "cell_type": "markdown",
   "metadata": {},
   "source": [
    "Alunos: Anderson Silva, Mariana Rodrigues\n",
    "\n",
    "R.A: 2150875, 2151014"
   ]
  },
  {
   "cell_type": "markdown",
   "metadata": {},
   "source": [
    "## Exercício 1\n",
    "\n",
    "Estude os detalhes de Pytorch. Garanta que você entendeu os conceitos básicos exemplificados."
   ]
  },
  {
   "cell_type": "markdown",
   "metadata": {},
   "source": [
    "## Exercício 2"
   ]
  },
  {
   "cell_type": "markdown",
   "metadata": {},
   "source": [
    "Considere esses valores abaixo para os tensores x e y:"
   ]
  },
  {
   "cell_type": "code",
   "execution_count": 1,
   "metadata": {},
   "outputs": [
    {
     "name": "stdout",
     "output_type": "stream",
     "text": [
      "tensor([[-1.1258, -1.1524, -0.2506],\n",
      "        [-0.4339,  0.8487,  0.6920],\n",
      "        [-0.3160, -2.1152,  0.3223],\n",
      "        [-1.2633,  0.3500,  0.3081],\n",
      "        [ 0.1198,  1.2377, -0.1435],\n",
      "        [-0.1116, -0.6136,  0.0316],\n",
      "        [-0.4927,  0.2484,  0.4397],\n",
      "        [ 0.1124, -0.8411, -2.3160],\n",
      "        [-0.1023,  0.7924, -0.2897],\n",
      "        [ 0.0525,  0.5229,  2.3022]])\n",
      "tensor([[ 0.9383,  0.4889],\n",
      "        [-0.6731,  0.8728],\n",
      "        [ 1.1108,  1.2899],\n",
      "        [-1.4782,  2.5672],\n",
      "        [-0.4731,  0.3356],\n",
      "        [ 1.5091,  2.0820],\n",
      "        [-0.4798, -0.4997],\n",
      "        [-1.0670,  1.1149],\n",
      "        [-0.1407,  0.8058],\n",
      "        [ 0.3276, -0.7607]])\n"
     ]
    }
   ],
   "source": [
    "import torch\n",
    "torch.manual_seed(0)\n",
    "\n",
    "#Shape (10, 3)\n",
    "x = torch.randn(10, 3)\n",
    "print(x)\n",
    "\n",
    "#Shape(10, 2)\n",
    "y = torch.randn(10, 2)\n",
    "print(y)\n"
   ]
  },
  {
   "cell_type": "markdown",
   "metadata": {},
   "source": [
    "Modifique o \"Primeiro modelo\" exemplificado no notebook criando um loop para repetir 1000 vezes os passos chave que foram repetidos duas vezes no exemplo com duas repetições. Como ficou o resultado?"
   ]
  },
  {
   "cell_type": "code",
   "execution_count": 5,
   "metadata": {},
   "outputs": [
    {
     "name": "stdout",
     "output_type": "stream",
     "text": [
      "Usando cpu\n",
      "Época [100/1000], Perda: 1.1035\n",
      "Época [200/1000], Perda: 0.9581\n",
      "Época [300/1000], Perda: 0.8488\n",
      "Época [400/1000], Perda: 0.7642\n",
      "Época [500/1000], Perda: 0.6987\n",
      "Época [600/1000], Perda: 0.6485\n",
      "Época [700/1000], Perda: 0.6107\n",
      "Época [800/1000], Perda: 0.5828\n",
      "Época [900/1000], Perda: 0.5628\n",
      "Época [1000/1000], Perda: 0.5488\n",
      "Parâmetros finais do modelo:\n",
      "Pesos (w): Parameter containing:\n",
      "tensor([[ 0.6020, -0.6985,  0.4268],\n",
      "        [-0.7545, -0.1253, -0.3178]], requires_grad=True)\n",
      "Viés (b): Parameter containing:\n",
      "tensor([0.0745, 0.3573], requires_grad=True)\n"
     ]
    }
   ],
   "source": [
    "import torch\n",
    "import torch.nn as nn\n",
    "\n",
    "torch.manual_seed(0)\n",
    "\n",
    "x = torch.randn(10, 3)\n",
    "y = torch.randn(10, 2)\n",
    "\n",
    "linear = nn.Linear(3, 2)\n",
    "\n",
    "device = \"cuda\" if torch.cuda.is_available() else \"cpu\"\n",
    "\n",
    "print(\"Usando {}\".format(device))\n",
    "\n",
    "linear = linear.to(device)\n",
    "x = x.to(device)\n",
    "y = y.to(device)\n",
    "\n",
    "criterion = nn.MSELoss()\n",
    "optimizer = torch.optim.Adam(linear.parameters(), lr=0.001)\n",
    "\n",
    "for epoch in range(1000):\n",
    "    pred = linear(x)\n",
    "\n",
    "    loss = criterion(pred, y)\n",
    "\n",
    "    optimizer.zero_grad()  # Zerar gradientes\n",
    "    loss.backward()  # Retropropagação\n",
    "    optimizer.step()  # Atualizar parâmetros\n",
    "\n",
    "    if (epoch + 1) % 100 == 0:\n",
    "        print(f'Época [{epoch + 1}/1000], Perda: {loss.item():.4f}')\n",
    "\n",
    "# Resultado final\n",
    "print('Parâmetros finais do modelo:')\n",
    "print('Pesos (w):', linear.weight)\n",
    "print('Viés (b):', linear.bias)\n"
   ]
  }
 ],
 "metadata": {
  "kernelspec": {
   "display_name": "Python 3",
   "language": "python",
   "name": "python3"
  },
  "language_info": {
   "codemirror_mode": {
    "name": "ipython",
    "version": 3
   },
   "file_extension": ".py",
   "mimetype": "text/x-python",
   "name": "python",
   "nbconvert_exporter": "python",
   "pygments_lexer": "ipython3",
   "version": "3.11.4"
  }
 },
 "nbformat": 4,
 "nbformat_minor": 4
}
